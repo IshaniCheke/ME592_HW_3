{
 "cells": [
  {
   "cell_type": "code",
   "execution_count": 36,
   "id": "82e590b0-b90e-4d9c-bbde-a5cadfbad388",
   "metadata": {},
   "outputs": [],
   "source": [
    "import os\n",
    "import torch\n",
    "import numpy as np\n",
    "from torch.utils.data import DataLoader\n",
    "from torch.utils.data import Dataset\n",
    "from torchvision.io import read_video\n",
    "from torchvision import transforms\n",
    "from PIL import Image\n",
    "\n",
    "class UCF11_LSTM_Dataset(Dataset):\n",
    "    def __init__(self, root_dir, num_frames=10, transform=None):\n",
    "        self.root_dir = root_dir\n",
    "        self.num_frames = num_frames\n",
    "        self.transform = transform or transforms.Compose([\n",
    "            transforms.Resize((224, 224)),\n",
    "            transforms.ToTensor()\n",
    "        ])\n",
    "        \n",
    "        self.classes = sorted(os.listdir(root_dir))\n",
    "        self.class_to_idx = {cls: i for i, cls in enumerate(self.classes)}\n",
    "        self.video_paths = []\n",
    "\n",
    "        for cls in self.classes:\n",
    "            class_path = os.path.join(root_dir, cls)\n",
    "            for subfolder in os.listdir(class_path):\n",
    "                subfolder_path = os.path.join(class_path, subfolder)\n",
    "                if os.path.isdir(subfolder_path):\n",
    "                    for file in os.listdir(subfolder_path):\n",
    "                        if file.endswith((\".mp4\", \".mpg\")):\n",
    "                            self.video_paths.append((\n",
    "                                os.path.join(subfolder_path, file),\n",
    "                                self.class_to_idx[cls]\n",
    "                            ))\n",
    "\n",
    "    def __len__(self):\n",
    "        return len(self.video_paths)\n",
    "\n",
    "    def __getitem__(self, idx):\n",
    "        path, label = self.video_paths[idx]\n",
    "\n",
    "        try:\n",
    "            frames, _, _ = read_video(path, pts_unit='sec')\n",
    "        except Exception as e:\n",
    "            print(f\"?? Failed to load video: {path} | {e}\")\n",
    "            return self.__getitem__((idx + 1) % len(self.video_paths))\n",
    "\n",
    "        if frames.ndim != 4 or frames.shape[-1] != 3 or len(frames) == 0:\n",
    "            print(f\"? Skipping malformed video: {path} | shape: {frames.shape}\")\n",
    "            return self.__getitem__((idx + 1) % len(self.video_paths))\n",
    "\n",
    "        T = frames.shape[0]\n",
    "\n",
    "        if T >= self.num_frames:\n",
    "            indices = np.linspace(0, T - 1, self.num_frames).astype(int)\n",
    "            sampled = frames[indices]\n",
    "        else:\n",
    "            padding = self.num_frames - T\n",
    "            sampled = torch.cat([frames, frames[-1:].repeat(padding, 1, 1, 1)], dim=0)\n",
    "\n",
    "        transformed_frames = []\n",
    "        for i in range(self.num_frames):\n",
    "            frame = sampled[i].numpy().astype(np.uint8)\n",
    "            img = Image.fromarray(frame)\n",
    "            img = self.transform(img)\n",
    "            transformed_frames.append(img)\n",
    "\n",
    "        clip = torch.stack(transformed_frames)  \n",
    "        return clip, label\n"
   ]
  },
  {
   "cell_type": "code",
   "execution_count": 37,
   "id": "ae56ef10-4e14-413e-903a-de3a8ea9fa75",
   "metadata": {},
   "outputs": [
    {
     "name": "stdout",
     "output_type": "stream",
     "text": [
      " Test set created from folders 20?25.\n"
     ]
    }
   ],
   "source": [
    "import os\n",
    "import shutil\n",
    "from glob import glob\n",
    "\n",
    "src_root = os.path.expanduser(\"~/notebooks/UCF11_updated_mpg\")\n",
    "dst_root = os.path.expanduser(\"~/notebooks/split_ucf11/test\")\n",
    "\n",
    "os.makedirs(dst_root, exist_ok=True)\n",
    "\n",
    "for cls in os.listdir(src_root):\n",
    "    cls_path = os.path.join(src_root, cls)\n",
    "    if not os.path.isdir(cls_path) or cls == \"Annotation\":\n",
    "        continue\n",
    "\n",
    "    dst_cls = os.path.join(dst_root, cls)\n",
    "    os.makedirs(dst_cls, exist_ok=True)\n",
    "\n",
    "    for folder in os.listdir(cls_path):\n",
    "        if any(folder.endswith(f\"_{i:02}\") for i in range(20, 26)):\n",
    "            full_path = os.path.join(cls_path, folder)\n",
    "            shutil.copytree(full_path, os.path.join(dst_cls, folder), dirs_exist_ok=True)\n",
    "\n",
    "print(\" Test set created from folders 20?25.\")\n"
   ]
  },
  {
   "cell_type": "code",
   "execution_count": 38,
   "id": "8aa82389-a1d3-492e-9c3b-bb7a9f044c41",
   "metadata": {},
   "outputs": [],
   "source": [
    "train_dataset = UCF11_LSTM_Dataset(os.path.expanduser(\"~/notebooks/split_ucf11/train\"))\n",
    "val_dataset   = UCF11_LSTM_Dataset(os.path.expanduser(\"~/notebooks/split_ucf11/val\"))\n",
    "test_dataset  = UCF11_LSTM_Dataset(os.path.expanduser(\"~/notebooks/split_ucf11/test\"))\n",
    "\n",
    "train_loader = DataLoader(train_dataset, batch_size=4, shuffle=True)\n",
    "val_loader   = DataLoader(val_dataset, batch_size=4, shuffle=False)\n",
    "test_loader  = DataLoader(test_dataset, batch_size=4, shuffle=False)\n"
   ]
  },
  {
   "cell_type": "code",
   "execution_count": 39,
   "id": "36e8090c-5df7-4cc5-b417-7b01dff33c23",
   "metadata": {},
   "outputs": [
    {
     "name": "stdout",
     "output_type": "stream",
     "text": [
      "Using device: cuda\n"
     ]
    }
   ],
   "source": [
    "import torch\n",
    "\n",
    "device = torch.device(\"cuda\" if torch.cuda.is_available() else \"cpu\")\n",
    "print(\"Using device:\", device)\n"
   ]
  },
  {
   "cell_type": "code",
   "execution_count": 40,
   "id": "aa7bd76c-6b5c-4c7e-8a7e-c42794c93953",
   "metadata": {},
   "outputs": [
    {
     "name": "stdout",
     "output_type": "stream",
     "text": [
      "Dataset length: 1257\n",
      "Clip shape: torch.Size([10, 3, 224, 224])\n",
      "Label: 0\n"
     ]
    }
   ],
   "source": [
    "dataset = UCF11_LSTM_Dataset(os.path.expanduser(\"~/notebooks/split_ucf11/train\"))\n",
    "print(\"Dataset length:\", len(dataset))\n",
    "\n",
    "clip, label = dataset[0]\n",
    "print(\"Clip shape:\", clip.shape)  # Should be: torch.Size([10, 3, 224, 224])\n",
    "print(\"Label:\", label)\n"
   ]
  },
  {
   "cell_type": "code",
   "execution_count": 41,
   "id": "a40bfb00-0495-4d32-8d29-aa556379132d",
   "metadata": {},
   "outputs": [],
   "source": [
    "import torchvision.models as models\n",
    "import torch.nn as nn\n",
    "import torch\n",
    "\n",
    "class ResNetEncoder(nn.Module):\n",
    "    def __init__(self, embedding_dim=512, freeze=True):\n",
    "        super(ResNetEncoder, self).__init__()\n",
    "        base = models.resnet18(pretrained=True)\n",
    "        modules = list(base.children())[:-1]  \n",
    "        self.encoder = nn.Sequential(*modules)\n",
    "        self.embedding_dim = embedding_dim\n",
    "\n",
    "        if freeze:\n",
    "            for param in self.encoder.parameters():\n",
    "                param.requires_grad = False\n",
    "\n",
    "    def forward(self, x):  # x: (B * T, 3, 224, 224)\n",
    "        x = self.encoder(x)  # (B * T, 512, 1, 1)\n",
    "        x = x.view(x.size(0), -1)  # (B * T, 512)\n",
    "        return x\n"
   ]
  },
  {
   "cell_type": "code",
   "execution_count": 42,
   "id": "314cf66d-b7da-4a46-bb4e-a3f9c8a9f6db",
   "metadata": {},
   "outputs": [],
   "source": [
    "class ResNetLSTMClassifier(nn.Module):\n",
    "    def __init__(self, embedding_dim=512, hidden_dim=256, num_layers=1, num_classes=11):\n",
    "        super(ResNetLSTMClassifier, self).__init__()\n",
    "        self.lstm = nn.LSTM(embedding_dim, hidden_dim, num_layers, batch_first=True)\n",
    "        self.fc = nn.Linear(hidden_dim, num_classes)\n",
    "\n",
    "    def forward(self, embeddings):  # (B, T, 512)\n",
    "        lstm_out, _ = self.lstm(embeddings)  # (B, T, hidden_dim)\n",
    "        final_output = lstm_out[:, -1, :]    # Use last hidden state\n",
    "        logits = self.fc(final_output)       # (B, num_classes)\n",
    "        return logits\n"
   ]
  },
  {
   "cell_type": "code",
   "execution_count": 43,
   "id": "13546c93-f02d-474d-96ac-ca8d91fa8dae",
   "metadata": {},
   "outputs": [
    {
     "name": "stderr",
     "output_type": "stream",
     "text": [
      "/home/exouser/.conda/envs/my5920_env/lib/python3.10/site-packages/torchvision/models/_utils.py:208: UserWarning: The parameter 'pretrained' is deprecated since 0.13 and may be removed in the future, please use 'weights' instead.\n",
      "  warnings.warn(\n",
      "/home/exouser/.conda/envs/my5920_env/lib/python3.10/site-packages/torchvision/models/_utils.py:223: UserWarning: Arguments other than a weight enum or `None` for 'weights' are deprecated since 0.13 and may be removed in the future. The current behavior is equivalent to passing `weights=ResNet18_Weights.IMAGENET1K_V1`. You can also use `weights=ResNet18_Weights.DEFAULT` to get the most up-to-date weights.\n",
      "  warnings.warn(msg)\n"
     ]
    }
   ],
   "source": [
    "resnet_encoder = ResNetEncoder(embedding_dim=512, freeze=True).to(device)\n",
    "lstm_classifier = ResNetLSTMClassifier().to(device)\n"
   ]
  },
  {
   "cell_type": "code",
   "execution_count": 44,
   "id": "d0d670b1-23e9-480f-a038-de0ee41afc61",
   "metadata": {},
   "outputs": [
    {
     "name": "stderr",
     "output_type": "stream",
     "text": [
      "Epoch 1/5: 100%|██████████| 315/315 [01:55<00:00,  2.73it/s, acc=63.2, loss=1.98] \n"
     ]
    },
    {
     "name": "stdout",
     "output_type": "stream",
     "text": [
      "\n",
      " Epoch 1 completed | Loss: 389.4913 | Accuracy: 63.25%\n",
      "\n"
     ]
    },
    {
     "name": "stderr",
     "output_type": "stream",
     "text": [
      "Epoch 2/5: 100%|██████████| 315/315 [01:41<00:00,  3.11it/s, acc=85.7, loss=0.0163]\n"
     ]
    },
    {
     "name": "stdout",
     "output_type": "stream",
     "text": [
      "\n",
      " Epoch 2 completed | Loss: 158.5953 | Accuracy: 85.68%\n",
      "\n"
     ]
    },
    {
     "name": "stderr",
     "output_type": "stream",
     "text": [
      "Epoch 3/5: 100%|██████████| 315/315 [01:47<00:00,  2.94it/s, acc=91.9, loss=0.0369]\n"
     ]
    },
    {
     "name": "stdout",
     "output_type": "stream",
     "text": [
      "\n",
      " Epoch 3 completed | Loss: 95.9280 | Accuracy: 91.89%\n",
      "\n"
     ]
    },
    {
     "name": "stderr",
     "output_type": "stream",
     "text": [
      "Epoch 4/5: 100%|██████████| 315/315 [01:57<00:00,  2.68it/s, acc=95.6, loss=0.00158]\n"
     ]
    },
    {
     "name": "stdout",
     "output_type": "stream",
     "text": [
      "\n",
      " Epoch 4 completed | Loss: 55.5010 | Accuracy: 95.62%\n",
      "\n"
     ]
    },
    {
     "name": "stderr",
     "output_type": "stream",
     "text": [
      "Epoch 5/5: 100%|██████████| 315/315 [01:57<00:00,  2.68it/s, acc=96.1, loss=0.00444]"
     ]
    },
    {
     "name": "stdout",
     "output_type": "stream",
     "text": [
      "\n",
      " Epoch 5 completed | Loss: 55.4648 | Accuracy: 96.10%\n",
      "\n"
     ]
    },
    {
     "name": "stderr",
     "output_type": "stream",
     "text": [
      "\n"
     ]
    }
   ],
   "source": [
    "import torch.nn as nn\n",
    "import torch.optim as optim\n",
    "from tqdm import tqdm\n",
    "\n",
    "# Loss and optimizer\n",
    "criterion = nn.CrossEntropyLoss()\n",
    "params = list(lstm_classifier.parameters())  # only train LSTM\n",
    "optimizer = optim.Adam(params, lr=3e-4)\n",
    "\n",
    "epochs = 5\n",
    "\n",
    "for epoch in range(epochs):\n",
    "    resnet_encoder.eval()  # Encoder frozen\n",
    "    lstm_classifier.train()\n",
    "\n",
    "    running_loss = 0.0\n",
    "    correct = 0\n",
    "    total = 0\n",
    "\n",
    "    pbar = tqdm(train_loader, desc=f\"Epoch {epoch+1}/{epochs}\")\n",
    "    for clips, labels in pbar:\n",
    "        # clips: [B, T, 3, 224, 224]\n",
    "        B, T, C, H, W = clips.shape\n",
    "\n",
    "        clips = clips.view(B * T, C, H, W).to(device)\n",
    "        labels = labels.to(device)\n",
    "\n",
    "        with torch.no_grad():\n",
    "            embeddings = resnet_encoder(clips)  # [B*T, 512]\n",
    "\n",
    "        embeddings = embeddings.view(B, T, -1)  # [B, T, 512]\n",
    "\n",
    "        outputs = lstm_classifier(embeddings)  # [B, num_classes]\n",
    "        loss = criterion(outputs, labels)\n",
    "\n",
    "        optimizer.zero_grad()\n",
    "        loss.backward()\n",
    "        optimizer.step()\n",
    "\n",
    "        running_loss += loss.item()\n",
    "        _, preds = outputs.max(1)\n",
    "        correct += preds.eq(labels).sum().item()\n",
    "        total += labels.size(0)\n",
    "\n",
    "        pbar.set_postfix(loss=loss.item(), acc=100. * correct / total)\n",
    "\n",
    "    acc = 100. * correct / total\n",
    "    print(f\"\\n Epoch {epoch+1} completed | Loss: {running_loss:.4f} | Accuracy: {acc:.2f}%\\n\")\n"
   ]
  },
  {
   "cell_type": "code",
   "execution_count": 45,
   "id": "6986afef-ede3-4854-8544-410cb29e0cee",
   "metadata": {},
   "outputs": [
    {
     "name": "stdout",
     "output_type": "stream",
     "text": [
      " Model saved successfully!\n"
     ]
    }
   ],
   "source": [
    "# Save the model's state dict\n",
    "torch.save({\n",
    "    'epoch': epoch,\n",
    "    'model_state_dict': lstm_classifier.state_dict(),\n",
    "    'optimizer_state_dict': optimizer.state_dict(),\n",
    "    'loss': running_loss,\n",
    "}, 'lstm_resnet_model.pth')\n",
    "\n",
    "print(\" Model saved successfully!\")\n"
   ]
  },
  {
   "cell_type": "code",
   "execution_count": 46,
   "id": "8b4f5f02-6bc9-4cd8-a0c7-666d81aa7136",
   "metadata": {},
   "outputs": [
    {
     "name": "stdout",
     "output_type": "stream",
     "text": [
      " Test Accuracy: 83.29%\n",
      " Test Loss: 0.5237\n"
     ]
    }
   ],
   "source": [
    "\n",
    "lstm_classifier.eval()  # Set the model to evaluation mode\n",
    "\n",
    "test_correct = 0\n",
    "test_total = 0\n",
    "test_loss = 0.0\n",
    "\n",
    "with torch.no_grad():\n",
    "    for clips, labels in test_loader:\n",
    "        clips = clips.to(device)\n",
    "        labels = labels.to(device)\n",
    "\n",
    "        # Reshape to [B * T, C, H, W] before passing through ResNet\n",
    "        B, T, C, H, W = clips.shape\n",
    "        clips = clips.view(B * T, C, H, W)\n",
    "\n",
    "        \n",
    "        embeddings = resnet_encoder(clips)\n",
    "        embeddings = embeddings.view(B, T, -1)\n",
    "\n",
    "        outputs = lstm_classifier(embeddings)\n",
    "\n",
    "        loss = criterion(outputs, labels)\n",
    "        test_loss += loss.item()\n",
    "\n",
    "        _, predicted = outputs.max(1)\n",
    "        test_correct += predicted.eq(labels).sum().item()\n",
    "        test_total += labels.size(0)\n",
    "\n",
    "test_acc = 100. * test_correct / test_total\n",
    "test_loss_avg = test_loss / len(test_loader)\n",
    "\n",
    "print(f\" Test Accuracy: {test_acc:.2f}%\")\n",
    "print(f\" Test Loss: {test_loss_avg:.4f}\")\n"
   ]
  },
  {
   "cell_type": "code",
   "execution_count": 35,
   "id": "4fb2ee51-72b7-4498-b24c-f328dbdd6da8",
   "metadata": {},
   "outputs": [
    {
     "data": {
      "image/png": "[encoded data removed]",
      "text/plain": [
       "<Figure size 1000x800 with 2 Axes>"
      ]
     },
     "metadata": {},
     "output_type": "display_data"
    }
   ],
   "source": [
    "import matplotlib.pyplot as plt\n",
    "import seaborn as sns\n",
    "from sklearn.metrics import confusion_matrix\n",
    "\n",
    "class_names = ['golf_swing', 'biking', 'diving', 'swing', 'tennis_swing', \n",
    "               'basketball', 'trampoline_jumping', 'volleyball_spiking', \n",
    "               'walking', 'soccer_juggling', 'horse_riding']\n",
    "\n",
    "all_preds = []\n",
    "all_labels = []\n",
    "\n",
    "lstm_classifier.eval()  \n",
    "with torch.no_grad():\n",
    "    for clips, labels in test_loader:\n",
    "        clips = clips.to(device)\n",
    "        labels = labels.to(device)\n",
    "\n",
    "        B, T, C, H, W = clips.shape\n",
    "        clips = clips.view(B * T, C, H, W)\n",
    "\n",
    "        embeddings = resnet_encoder(clips)\n",
    "\n",
    "        embeddings = embeddings.view(B, T, -1)\n",
    "\n",
    "        outputs = lstm_classifier(embeddings)\n",
    "\n",
    "        _, predicted = outputs.max(1)  # Fixed the missing parenthesis\n",
    "\n",
    "        all_preds.extend(predicted.cpu().numpy())\n",
    "        all_labels.extend(labels.cpu().numpy())\n",
    "\n",
    "# === Confusion matrix\n",
    "cm = confusion_matrix(all_labels, all_preds)\n",
    "\n",
    "plt.figure(figsize=(10, 8))\n",
    "sns.heatmap(cm, annot=True, fmt=\"d\", cmap=\"Blues\", xticklabels=class_names, yticklabels=class_names)\n",
    "plt.xlabel('Predicted')\n",
    "plt.ylabel('True')\n",
    "plt.title('Confusion Matrix for LSTM Classifier')\n",
    "plt.show()\n"
   ]
  },
  {
   "cell_type": "code",
   "execution_count": null,
   "id": "4ddca479-4371-4770-a184-d4a8c4390b29",
   "metadata": {},
   "outputs": [],
   "source": []
  }
 ],
 "metadata": {
  "kernelspec": {
   "display_name": "me592",
   "language": "python",
   "name": "me592"
  },
  "language_info": {
   "codemirror_mode": {
    "name": "ipython",
    "version": 3
   },
   "file_extension": ".py",
   "mimetype": "text/x-python",
   "name": "python",
   "nbconvert_exporter": "python",
   "pygments_lexer": "ipython3",
   "version": "3.10.16"
  }
 },
 "nbformat": 4,
 "nbformat_minor": 5
}
